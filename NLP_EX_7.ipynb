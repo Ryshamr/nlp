{
 "cells": [
  {
   "cell_type": "code",
   "execution_count": 1,
   "id": "bd0b9c61",
   "metadata": {},
   "outputs": [],
   "source": [
    "import numpy as np\n",
    "import pandas as pd\n",
    "import json"
   ]
  },
  {
   "cell_type": "code",
   "execution_count": 2,
   "id": "3cd28825",
   "metadata": {},
   "outputs": [],
   "source": [
    "data = []\n",
    "with open('gigaword/train.jsonl','r') as file:\n",
    "    for line in file:\n",
    "        data.append(json.loads(line))"
   ]
  },
  {
   "cell_type": "code",
   "execution_count": 3,
   "id": "be4f6f23",
   "metadata": {},
   "outputs": [
    {
     "data": {
      "text/html": [
       "<div>\n",
       "<style scoped>\n",
       "    .dataframe tbody tr th:only-of-type {\n",
       "        vertical-align: middle;\n",
       "    }\n",
       "\n",
       "    .dataframe tbody tr th {\n",
       "        vertical-align: top;\n",
       "    }\n",
       "\n",
       "    .dataframe thead th {\n",
       "        text-align: right;\n",
       "    }\n",
       "</style>\n",
       "<table border=\"1\" class=\"dataframe\">\n",
       "  <thead>\n",
       "    <tr style=\"text-align: right;\">\n",
       "      <th></th>\n",
       "      <th>id</th>\n",
       "      <th>text</th>\n",
       "      <th>summary</th>\n",
       "    </tr>\n",
       "  </thead>\n",
       "  <tbody>\n",
       "    <tr>\n",
       "      <th>0</th>\n",
       "      <td>gigaword-train-0</td>\n",
       "      <td>australia 's current account deficit shrunk by...</td>\n",
       "      <td>australian current account deficit narrows sha...</td>\n",
       "    </tr>\n",
       "    <tr>\n",
       "      <th>1</th>\n",
       "      <td>gigaword-train-1</td>\n",
       "      <td>at least two people were killed in a suspected...</td>\n",
       "      <td>at least two dead in southern philippines blast</td>\n",
       "    </tr>\n",
       "    <tr>\n",
       "      <th>2</th>\n",
       "      <td>gigaword-train-2</td>\n",
       "      <td>australian shares closed down #.# percent mond...</td>\n",
       "      <td>australian stocks close down #.# percent</td>\n",
       "    </tr>\n",
       "    <tr>\n",
       "      <th>3</th>\n",
       "      <td>gigaword-train-3</td>\n",
       "      <td>south korea 's nuclear envoy kim sook urged no...</td>\n",
       "      <td>envoy urges north korea to restart nuclear dis...</td>\n",
       "    </tr>\n",
       "    <tr>\n",
       "      <th>4</th>\n",
       "      <td>gigaword-train-4</td>\n",
       "      <td>south korea on monday announced sweeping tax r...</td>\n",
       "      <td>skorea announces tax cuts to stimulate economy</td>\n",
       "    </tr>\n",
       "    <tr>\n",
       "      <th>...</th>\n",
       "      <td>...</td>\n",
       "      <td>...</td>\n",
       "      <td>...</td>\n",
       "    </tr>\n",
       "    <tr>\n",
       "      <th>999995</th>\n",
       "      <td>gigaword-train-999995</td>\n",
       "      <td>after proclaiming a special relationship with ...</td>\n",
       "      <td>indian leader vajpayee to meet with bush to di...</td>\n",
       "    </tr>\n",
       "    <tr>\n",
       "      <th>999996</th>\n",
       "      <td>gigaword-train-999996</td>\n",
       "      <td>a group of people expelled by the british from...</td>\n",
       "      <td>former residents of indian ocean island demand...</td>\n",
       "    </tr>\n",
       "    <tr>\n",
       "      <th>999997</th>\n",
       "      <td>gigaword-train-999997</td>\n",
       "      <td>a mix of profit-taking and cautiousness guided...</td>\n",
       "      <td>stocks lower in early trading</td>\n",
       "    </tr>\n",
       "    <tr>\n",
       "      <th>999998</th>\n",
       "      <td>gigaword-train-999998</td>\n",
       "      <td>hungary 's air carrier , malev , has grounded ...</td>\n",
       "      <td>hungarian air carrier grounds flights to bosnia</td>\n",
       "    </tr>\n",
       "    <tr>\n",
       "      <th>999999</th>\n",
       "      <td>gigaword-train-999999</td>\n",
       "      <td>a ##-year-old-girl who struck prince charles i...</td>\n",
       "      <td>teen-ager who struck prince charles with carna...</td>\n",
       "    </tr>\n",
       "  </tbody>\n",
       "</table>\n",
       "<p>1000000 rows × 3 columns</p>\n",
       "</div>"
      ],
      "text/plain": [
       "                           id  \\\n",
       "0            gigaword-train-0   \n",
       "1            gigaword-train-1   \n",
       "2            gigaword-train-2   \n",
       "3            gigaword-train-3   \n",
       "4            gigaword-train-4   \n",
       "...                       ...   \n",
       "999995  gigaword-train-999995   \n",
       "999996  gigaword-train-999996   \n",
       "999997  gigaword-train-999997   \n",
       "999998  gigaword-train-999998   \n",
       "999999  gigaword-train-999999   \n",
       "\n",
       "                                                     text  \\\n",
       "0       australia 's current account deficit shrunk by...   \n",
       "1       at least two people were killed in a suspected...   \n",
       "2       australian shares closed down #.# percent mond...   \n",
       "3       south korea 's nuclear envoy kim sook urged no...   \n",
       "4       south korea on monday announced sweeping tax r...   \n",
       "...                                                   ...   \n",
       "999995  after proclaiming a special relationship with ...   \n",
       "999996  a group of people expelled by the british from...   \n",
       "999997  a mix of profit-taking and cautiousness guided...   \n",
       "999998  hungary 's air carrier , malev , has grounded ...   \n",
       "999999  a ##-year-old-girl who struck prince charles i...   \n",
       "\n",
       "                                                  summary  \n",
       "0       australian current account deficit narrows sha...  \n",
       "1         at least two dead in southern philippines blast  \n",
       "2                australian stocks close down #.# percent  \n",
       "3       envoy urges north korea to restart nuclear dis...  \n",
       "4          skorea announces tax cuts to stimulate economy  \n",
       "...                                                   ...  \n",
       "999995  indian leader vajpayee to meet with bush to di...  \n",
       "999996  former residents of indian ocean island demand...  \n",
       "999997                      stocks lower in early trading  \n",
       "999998    hungarian air carrier grounds flights to bosnia  \n",
       "999999  teen-ager who struck prince charles with carna...  \n",
       "\n",
       "[1000000 rows x 3 columns]"
      ]
     },
     "execution_count": 3,
     "metadata": {},
     "output_type": "execute_result"
    }
   ],
   "source": [
    "data = pd.DataFrame(data)\n",
    "data"
   ]
  },
  {
   "cell_type": "code",
   "execution_count": 4,
   "id": "d4bdcac8",
   "metadata": {},
   "outputs": [
    {
     "data": {
      "text/plain": [
       "0         australia 's current account deficit shrunk by...\n",
       "1         at least two people were killed in a suspected...\n",
       "2         australian shares closed down #.# percent mond...\n",
       "3         south korea 's nuclear envoy kim sook urged no...\n",
       "4         south korea on monday announced sweeping tax r...\n",
       "                                ...                        \n",
       "999995    after proclaiming a special relationship with ...\n",
       "999996    a group of people expelled by the british from...\n",
       "999997    a mix of profit-taking and cautiousness guided...\n",
       "999998    hungary 's air carrier , malev , has grounded ...\n",
       "999999    a ##-year-old-girl who struck prince charles i...\n",
       "Name: text, Length: 1000000, dtype: object"
      ]
     },
     "execution_count": 4,
     "metadata": {},
     "output_type": "execute_result"
    }
   ],
   "source": [
    "data['text']"
   ]
  },
  {
   "cell_type": "code",
   "execution_count": 5,
   "id": "69ef2b81",
   "metadata": {},
   "outputs": [],
   "source": [
    "data = data.applymap(lambda x: str(x).replace('#', ''))"
   ]
  },
  {
   "cell_type": "code",
   "execution_count": 6,
   "id": "049c6586",
   "metadata": {},
   "outputs": [
    {
     "data": {
      "text/plain": [
       "\"australia 's current account deficit shrunk by a record . billion dollars -lrb- . billion us -rrb- in the june quarter due to soaring commodity prices , figures released monday showed .\""
      ]
     },
     "execution_count": 6,
     "metadata": {},
     "output_type": "execute_result"
    }
   ],
   "source": [
    "data['text'][0]"
   ]
  },
  {
   "cell_type": "code",
   "execution_count": 7,
   "id": "ae3ebf01",
   "metadata": {},
   "outputs": [
    {
     "data": {
      "text/html": [
       "<div>\n",
       "<style scoped>\n",
       "    .dataframe tbody tr th:only-of-type {\n",
       "        vertical-align: middle;\n",
       "    }\n",
       "\n",
       "    .dataframe tbody tr th {\n",
       "        vertical-align: top;\n",
       "    }\n",
       "\n",
       "    .dataframe thead th {\n",
       "        text-align: right;\n",
       "    }\n",
       "</style>\n",
       "<table border=\"1\" class=\"dataframe\">\n",
       "  <thead>\n",
       "    <tr style=\"text-align: right;\">\n",
       "      <th></th>\n",
       "      <th>id</th>\n",
       "      <th>text</th>\n",
       "      <th>summary</th>\n",
       "    </tr>\n",
       "  </thead>\n",
       "  <tbody>\n",
       "    <tr>\n",
       "      <th>0</th>\n",
       "      <td>gigaword-train-0</td>\n",
       "      <td>australia 's current account deficit shrunk by...</td>\n",
       "      <td>australian current account deficit narrows sha...</td>\n",
       "    </tr>\n",
       "    <tr>\n",
       "      <th>1</th>\n",
       "      <td>gigaword-train-1</td>\n",
       "      <td>at least two people were killed in a suspected...</td>\n",
       "      <td>at least two dead in southern philippines blast</td>\n",
       "    </tr>\n",
       "    <tr>\n",
       "      <th>2</th>\n",
       "      <td>gigaword-train-2</td>\n",
       "      <td>australian shares closed down . percent monday...</td>\n",
       "      <td>australian stocks close down . percent</td>\n",
       "    </tr>\n",
       "    <tr>\n",
       "      <th>3</th>\n",
       "      <td>gigaword-train-3</td>\n",
       "      <td>south korea 's nuclear envoy kim sook urged no...</td>\n",
       "      <td>envoy urges north korea to restart nuclear dis...</td>\n",
       "    </tr>\n",
       "    <tr>\n",
       "      <th>4</th>\n",
       "      <td>gigaword-train-4</td>\n",
       "      <td>south korea on monday announced sweeping tax r...</td>\n",
       "      <td>skorea announces tax cuts to stimulate economy</td>\n",
       "    </tr>\n",
       "  </tbody>\n",
       "</table>\n",
       "</div>"
      ],
      "text/plain": [
       "                 id                                               text  \\\n",
       "0  gigaword-train-0  australia 's current account deficit shrunk by...   \n",
       "1  gigaword-train-1  at least two people were killed in a suspected...   \n",
       "2  gigaword-train-2  australian shares closed down . percent monday...   \n",
       "3  gigaword-train-3  south korea 's nuclear envoy kim sook urged no...   \n",
       "4  gigaword-train-4  south korea on monday announced sweeping tax r...   \n",
       "\n",
       "                                             summary  \n",
       "0  australian current account deficit narrows sha...  \n",
       "1    at least two dead in southern philippines blast  \n",
       "2             australian stocks close down . percent  \n",
       "3  envoy urges north korea to restart nuclear dis...  \n",
       "4     skorea announces tax cuts to stimulate economy  "
      ]
     },
     "execution_count": 7,
     "metadata": {},
     "output_type": "execute_result"
    }
   ],
   "source": [
    "data.head()"
   ]
  },
  {
   "cell_type": "code",
   "execution_count": 8,
   "id": "3d2890fd",
   "metadata": {},
   "outputs": [],
   "source": [
    "texts = data['text'].tolist()[:1000]\n",
    "summaries = data['summary'].tolist()[:1000]"
   ]
  },
  {
   "cell_type": "code",
   "execution_count": 9,
   "id": "151ac392",
   "metadata": {},
   "outputs": [],
   "source": [
    "from tensorflow.keras.models import Model\n",
    "from tensorflow.keras.layers import Input, LSTM, Dense\n",
    "from tensorflow.keras.preprocessing.text import Tokenizer\n",
    "from tensorflow.keras.preprocessing.sequence import pad_sequences\n",
    "from sklearn.model_selection import train_test_split"
   ]
  },
  {
   "cell_type": "code",
   "execution_count": 10,
   "id": "3df89e1c",
   "metadata": {},
   "outputs": [],
   "source": [
    "tokenizer_texts = Tokenizer()"
   ]
  },
  {
   "cell_type": "markdown",
   "id": "5ce0512a",
   "metadata": {},
   "source": [
    "Updates internal vocabulary based on a list of texts.\n",
    "\n",
    "        In the case where texts contains lists,\n",
    "        we assume each entry of the lists to be a token."
   ]
  },
  {
   "cell_type": "code",
   "execution_count": 11,
   "id": "44ff1892",
   "metadata": {},
   "outputs": [],
   "source": [
    "tokenizer_texts.fit_on_texts(texts)"
   ]
  },
  {
   "cell_type": "markdown",
   "id": "43dfb631",
   "metadata": {},
   "source": [
    "Transforms each text in texts to a sequence of integers."
   ]
  },
  {
   "cell_type": "code",
   "execution_count": 12,
   "id": "2c37333e",
   "metadata": {},
   "outputs": [],
   "source": [
    "text_sequences = tokenizer_texts.texts_to_sequences(texts)"
   ]
  },
  {
   "cell_type": "code",
   "execution_count": 13,
   "id": "71b4cebc",
   "metadata": {},
   "outputs": [
    {
     "data": {
      "text/plain": [
       "4176"
      ]
     },
     "execution_count": 13,
     "metadata": {},
     "output_type": "execute_result"
    }
   ],
   "source": [
    "len(tokenizer_texts.word_index)"
   ]
  },
  {
   "cell_type": "code",
   "execution_count": 14,
   "id": "1dd40ec6",
   "metadata": {},
   "outputs": [
    {
     "name": "stdout",
     "output_type": "stream",
     "text": [
      "[813, 9, 998, 2394, 591, 2395, 15, 2, 999, 123, 49, 191, 123, 14, 192, 5, 1, 592, 686, 265, 4, 2396, 687, 31, 1000, 542, 75, 336]\n"
     ]
    }
   ],
   "source": [
    "print(text_sequences[0])"
   ]
  },
  {
   "cell_type": "code",
   "execution_count": 15,
   "id": "35874125",
   "metadata": {},
   "outputs": [],
   "source": [
    "max_text_len = max([len(seq) for seq in text_sequences])"
   ]
  },
  {
   "cell_type": "code",
   "execution_count": 16,
   "id": "e8ee372f",
   "metadata": {},
   "outputs": [
    {
     "data": {
      "text/plain": [
       "49"
      ]
     },
     "execution_count": 16,
     "metadata": {},
     "output_type": "execute_result"
    }
   ],
   "source": [
    "max_text_len"
   ]
  },
  {
   "cell_type": "code",
   "execution_count": 17,
   "id": "d804ea70",
   "metadata": {},
   "outputs": [],
   "source": [
    "padded_text_sequences = pad_sequences(text_sequences, maxlen=max_text_len, padding='post')"
   ]
  },
  {
   "cell_type": "code",
   "execution_count": 18,
   "id": "d86624c4",
   "metadata": {},
   "outputs": [
    {
     "data": {
      "text/plain": [
       "array([[ 813,    9,  998, ...,    0,    0,    0],\n",
       "       [  21,  131,   41, ...,    0,    0,    0],\n",
       "       [ 266,   87,   74, ...,    0,    0,    0],\n",
       "       ...,\n",
       "       [ 690,   32, 4158, ...,    0,    0,    0],\n",
       "       [  86,   85,   47, ...,    0,    0,    0],\n",
       "       [  29,    9,    1, ...,    0,    0,    0]])"
      ]
     },
     "execution_count": 18,
     "metadata": {},
     "output_type": "execute_result"
    }
   ],
   "source": [
    "padded_text_sequences"
   ]
  },
  {
   "cell_type": "code",
   "execution_count": 19,
   "id": "b57eb360",
   "metadata": {},
   "outputs": [],
   "source": [
    "tokenizer_summary = Tokenizer()\n",
    "tokenizer_summary.fit_on_texts(summaries)\n",
    "summary_sequences = tokenizer_summary.texts_to_sequences(summaries)\n",
    "max_summary_len = max([len(seq) for seq in summary_sequences])"
   ]
  },
  {
   "cell_type": "code",
   "execution_count": 20,
   "id": "baca624f",
   "metadata": {},
   "outputs": [],
   "source": [
    "padded_summary_sequences = pad_sequences(summary_sequences, maxlen=max_summary_len, padding='post')"
   ]
  },
  {
   "cell_type": "code",
   "execution_count": 21,
   "id": "262e6895",
   "metadata": {},
   "outputs": [],
   "source": [
    "X_train, X_val, y_train, y_val = train_test_split(padded_text_sequences, padded_summary_sequences, test_size=0.2, random_state=42)"
   ]
  },
  {
   "cell_type": "code",
   "execution_count": 22,
   "id": "94e64f41",
   "metadata": {},
   "outputs": [
    {
     "data": {
      "text/plain": [
       "(800, 49)"
      ]
     },
     "execution_count": 22,
     "metadata": {},
     "output_type": "execute_result"
    }
   ],
   "source": [
    "X_train.shape"
   ]
  },
  {
   "cell_type": "code",
   "execution_count": 23,
   "id": "993283a3",
   "metadata": {},
   "outputs": [],
   "source": [
    "latent_dim = 256"
   ]
  },
  {
   "cell_type": "code",
   "execution_count": 24,
   "id": "f6213f5f",
   "metadata": {},
   "outputs": [],
   "source": [
    "encoder_inputs = Input(shape=(max_text_len, ), dtype='int32',)"
   ]
  },
  {
   "cell_type": "code",
   "execution_count": 25,
   "id": "2cc3c5d1",
   "metadata": {},
   "outputs": [],
   "source": [
    "encoder_LSTM = LSTM(latent_dim, return_state=True)"
   ]
  },
  {
   "cell_type": "code",
   "execution_count": 26,
   "id": "9550d3b9",
   "metadata": {},
   "outputs": [],
   "source": [
    "import keras"
   ]
  },
  {
   "cell_type": "code",
   "execution_count": 27,
   "id": "48e5b237",
   "metadata": {},
   "outputs": [],
   "source": [
    "embedding_layer = keras.layers.Embedding(\n",
    "    input_dim = 78852,\n",
    "    output_dim = 50,\n",
    "    embeddings_initializer=\"uniform\")"
   ]
  },
  {
   "cell_type": "code",
   "execution_count": 28,
   "id": "5c9ceed9",
   "metadata": {},
   "outputs": [],
   "source": [
    "encoder_embedding = embedding_layer(encoder_inputs)"
   ]
  },
  {
   "cell_type": "code",
   "execution_count": 29,
   "id": "90e12e9c",
   "metadata": {},
   "outputs": [
    {
     "data": {
      "text/plain": [
       "<KerasTensor: shape=(None, 49, 50) dtype=float32 (created by layer 'embedding')>"
      ]
     },
     "execution_count": 29,
     "metadata": {},
     "output_type": "execute_result"
    }
   ],
   "source": [
    "encoder_embedding"
   ]
  },
  {
   "cell_type": "code",
   "execution_count": 30,
   "id": "508ac3db",
   "metadata": {},
   "outputs": [],
   "source": [
    "encoder_outputs, state_h, state_c = encoder_LSTM(encoder_embedding)"
   ]
  },
  {
   "cell_type": "code",
   "execution_count": 31,
   "id": "bf2c677d",
   "metadata": {},
   "outputs": [],
   "source": [
    "decoder_inputs = Input(shape=(max_summary_len, ), dtype='int32',)"
   ]
  },
  {
   "cell_type": "code",
   "execution_count": 32,
   "id": "e08c9c0f",
   "metadata": {},
   "outputs": [],
   "source": [
    "decoder_embedding = embedding_layer(decoder_inputs)"
   ]
  },
  {
   "cell_type": "code",
   "execution_count": 33,
   "id": "0ddf5204",
   "metadata": {},
   "outputs": [
    {
     "data": {
      "text/plain": [
       "<KerasTensor: shape=(None, 13, 50) dtype=float32 (created by layer 'embedding')>"
      ]
     },
     "execution_count": 33,
     "metadata": {},
     "output_type": "execute_result"
    }
   ],
   "source": [
    "decoder_embedding"
   ]
  },
  {
   "cell_type": "code",
   "execution_count": 34,
   "id": "0c226dd1",
   "metadata": {},
   "outputs": [],
   "source": [
    "decoder_LSTM = LSTM(latent_dim, return_state=True, return_sequences=True)"
   ]
  },
  {
   "cell_type": "code",
   "execution_count": 35,
   "id": "1f41f6b4",
   "metadata": {},
   "outputs": [],
   "source": [
    "decoder_outputs, _, _ = decoder_LSTM(decoder_embedding, initial_state=[state_h, state_c])"
   ]
  },
  {
   "cell_type": "code",
   "execution_count": 36,
   "id": "a7eb03be",
   "metadata": {},
   "outputs": [],
   "source": [
    "decoder_dense = Dense(len(tokenizer_summary.word_index) + 1, activation='softmax')"
   ]
  },
  {
   "cell_type": "code",
   "execution_count": 37,
   "id": "1f37ff82",
   "metadata": {},
   "outputs": [],
   "source": [
    "decoder_outputs = decoder_dense(decoder_outputs)"
   ]
  },
  {
   "cell_type": "code",
   "execution_count": 38,
   "id": "ec46c18e",
   "metadata": {},
   "outputs": [],
   "source": [
    "model = Model([encoder_inputs, decoder_inputs], decoder_outputs)"
   ]
  },
  {
   "cell_type": "code",
   "execution_count": 39,
   "id": "caa2f556",
   "metadata": {},
   "outputs": [
    {
     "name": "stdout",
     "output_type": "stream",
     "text": [
      "Model: \"model\"\n",
      "__________________________________________________________________________________________________\n",
      " Layer (type)                Output Shape                 Param #   Connected to                  \n",
      "==================================================================================================\n",
      " input_2 (InputLayer)        [(None, 13)]                 0         []                            \n",
      "                                                                                                  \n",
      " input_1 (InputLayer)        [(None, 49)]                 0         []                            \n",
      "                                                                                                  \n",
      " embedding (Embedding)       multiple                     3942600   ['input_1[0][0]',             \n",
      "                                                                     'input_2[0][0]']             \n",
      "                                                                                                  \n",
      " lstm (LSTM)                 [(None, 256),                314368    ['embedding[0][0]']           \n",
      "                              (None, 256),                                                        \n",
      "                              (None, 256)]                                                        \n",
      "                                                                                                  \n",
      " lstm_1 (LSTM)               [(None, 13, 256),            314368    ['embedding[1][0]',           \n",
      "                              (None, 256),                           'lstm[0][1]',                \n",
      "                              (None, 256)]                           'lstm[0][2]']                \n",
      "                                                                                                  \n",
      " dense (Dense)               (None, 13, 2025)             520425    ['lstm_1[0][0]']              \n",
      "                                                                                                  \n",
      "==================================================================================================\n",
      "Total params: 5091761 (19.42 MB)\n",
      "Trainable params: 5091761 (19.42 MB)\n",
      "Non-trainable params: 0 (0.00 Byte)\n",
      "__________________________________________________________________________________________________\n"
     ]
    }
   ],
   "source": [
    "model.summary()"
   ]
  },
  {
   "cell_type": "code",
   "execution_count": 40,
   "id": "11ac8ffd",
   "metadata": {},
   "outputs": [],
   "source": [
    "encoder_input_data = np.zeros((len(text_sequences), max_text_len, len(tokenizer_texts.word_index) + 1), dtype='float32')"
   ]
  },
  {
   "cell_type": "code",
   "execution_count": 41,
   "id": "f75edd14",
   "metadata": {},
   "outputs": [],
   "source": [
    "for i, seq in enumerate(text_sequences):\n",
    "    for j, word_idx in enumerate(seq):\n",
    "        encoder_input_data[i, j, word_idx] = 1.0"
   ]
  },
  {
   "cell_type": "code",
   "execution_count": 43,
   "id": "6236b926",
   "metadata": {},
   "outputs": [
    {
     "data": {
      "text/plain": [
       "(1000, 49, 4177)"
      ]
     },
     "execution_count": 43,
     "metadata": {},
     "output_type": "execute_result"
    }
   ],
   "source": [
    "encoder_input_data.shape"
   ]
  },
  {
   "cell_type": "code",
   "execution_count": 44,
   "id": "c3cb40cf",
   "metadata": {},
   "outputs": [],
   "source": [
    "decoder_input_data = np.zeros((len(summary_sequences), max_summary_len, len(tokenizer_summary.word_index) + 1), dtype='float32')\n",
    "decoder_target_data = np.zeros((len(summary_sequences), max_summary_len, len(tokenizer_summary.word_index) + 1), dtype='float32')"
   ]
  },
  {
   "cell_type": "code",
   "execution_count": 45,
   "id": "dbd20e9f",
   "metadata": {},
   "outputs": [],
   "source": [
    "for i, seq in enumerate(summary_sequences):\n",
    "    for j, word_idx in enumerate(seq):\n",
    "        decoder_input_data[i, j, word_idx] = 1.0\n",
    "        if j > 0:\n",
    "            decoder_target_data[i, j - 1, word_idx] = 1.0"
   ]
  },
  {
   "cell_type": "code",
   "execution_count": 47,
   "id": "c4fc36c0",
   "metadata": {},
   "outputs": [
    {
     "data": {
      "text/plain": [
       "(1000, 13, 2025)"
      ]
     },
     "execution_count": 47,
     "metadata": {},
     "output_type": "execute_result"
    }
   ],
   "source": [
    "decoder_input_data.shape"
   ]
  },
  {
   "cell_type": "code",
   "execution_count": 49,
   "id": "6541e65c",
   "metadata": {},
   "outputs": [
    {
     "data": {
      "text/plain": [
       "(1000, 13, 2025)"
      ]
     },
     "execution_count": 49,
     "metadata": {},
     "output_type": "execute_result"
    }
   ],
   "source": [
    "decoder_target_data.shape"
   ]
  },
  {
   "cell_type": "code",
   "execution_count": 51,
   "id": "35481c7e",
   "metadata": {},
   "outputs": [],
   "source": [
    "model.compile(optimizer='adam', loss='categorical_crossentropy', metrics=['accuracy'])"
   ]
  },
  {
   "cell_type": "code",
   "execution_count": 54,
   "id": "37d47edd",
   "metadata": {},
   "outputs": [
    {
     "name": "stdout",
     "output_type": "stream",
     "text": [
      "Model: \"model\"\n",
      "__________________________________________________________________________________________________\n",
      " Layer (type)                Output Shape                 Param #   Connected to                  \n",
      "==================================================================================================\n",
      " input_2 (InputLayer)        [(None, 13)]                 0         []                            \n",
      "                                                                                                  \n",
      " input_1 (InputLayer)        [(None, 49)]                 0         []                            \n",
      "                                                                                                  \n",
      " embedding (Embedding)       multiple                     3942600   ['input_1[0][0]',             \n",
      "                                                                     'input_2[0][0]']             \n",
      "                                                                                                  \n",
      " lstm (LSTM)                 [(None, 256),                314368    ['embedding[0][0]']           \n",
      "                              (None, 256),                                                        \n",
      "                              (None, 256)]                                                        \n",
      "                                                                                                  \n",
      " lstm_1 (LSTM)               [(None, 13, 256),            314368    ['embedding[1][0]',           \n",
      "                              (None, 256),                           'lstm[0][1]',                \n",
      "                              (None, 256)]                           'lstm[0][2]']                \n",
      "                                                                                                  \n",
      " dense (Dense)               (None, 13, 2025)             520425    ['lstm_1[0][0]']              \n",
      "                                                                                                  \n",
      "==================================================================================================\n",
      "Total params: 5091761 (19.42 MB)\n",
      "Trainable params: 5091761 (19.42 MB)\n",
      "Non-trainable params: 0 (0.00 Byte)\n",
      "__________________________________________________________________________________________________\n"
     ]
    }
   ],
   "source": [
    "model.summary()"
   ]
  },
  {
   "cell_type": "code",
   "execution_count": 59,
   "id": "051bd691",
   "metadata": {},
   "outputs": [
    {
     "name": "stdout",
     "output_type": "stream",
     "text": [
      "Epoch 1/50\n",
      "13/13 [==============================] - 11s 584ms/step - loss: 3.8768 - accuracy: 0.0635 - val_loss: 4.0184 - val_accuracy: 0.0177\n",
      "Epoch 2/50\n",
      "13/13 [==============================] - 7s 533ms/step - loss: 3.4922 - accuracy: 0.3377 - val_loss: 4.0250 - val_accuracy: 0.4642\n",
      "Epoch 3/50\n",
      "13/13 [==============================] - 7s 525ms/step - loss: 3.3642 - accuracy: 0.5075 - val_loss: 4.1420 - val_accuracy: 0.4665\n",
      "Epoch 4/50\n",
      "13/13 [==============================] - 6s 492ms/step - loss: 3.3434 - accuracy: 0.5098 - val_loss: 4.1282 - val_accuracy: 0.4650\n",
      "Epoch 5/50\n",
      "13/13 [==============================] - 6s 480ms/step - loss: 3.3154 - accuracy: 0.4989 - val_loss: 4.1060 - val_accuracy: 0.4665\n",
      "Epoch 6/50\n",
      "13/13 [==============================] - 7s 528ms/step - loss: 3.2933 - accuracy: 0.5088 - val_loss: 4.1163 - val_accuracy: 0.4665\n",
      "Epoch 7/50\n",
      "13/13 [==============================] - 7s 513ms/step - loss: 3.2777 - accuracy: 0.5075 - val_loss: 4.1399 - val_accuracy: 0.4665\n",
      "Epoch 8/50\n",
      "13/13 [==============================] - 7s 512ms/step - loss: 3.2651 - accuracy: 0.5088 - val_loss: 4.1530 - val_accuracy: 0.4665\n",
      "Epoch 9/50\n",
      "13/13 [==============================] - 6s 493ms/step - loss: 3.2554 - accuracy: 0.5099 - val_loss: 4.1606 - val_accuracy: 0.4673\n",
      "Epoch 10/50\n",
      "13/13 [==============================] - 6s 478ms/step - loss: 3.2441 - accuracy: 0.5097 - val_loss: 4.1640 - val_accuracy: 0.4665\n",
      "Epoch 11/50\n",
      "13/13 [==============================] - 6s 461ms/step - loss: 3.2367 - accuracy: 0.5092 - val_loss: 4.1678 - val_accuracy: 0.4650\n",
      "Epoch 12/50\n",
      "13/13 [==============================] - 6s 464ms/step - loss: 3.2239 - accuracy: 0.5106 - val_loss: 4.1841 - val_accuracy: 0.4650\n",
      "Epoch 13/50\n",
      "13/13 [==============================] - 6s 455ms/step - loss: 3.2181 - accuracy: 0.5088 - val_loss: 4.1966 - val_accuracy: 0.4673\n",
      "Epoch 14/50\n",
      "13/13 [==============================] - 6s 452ms/step - loss: 3.2239 - accuracy: 0.4977 - val_loss: 4.1907 - val_accuracy: 0.4488\n",
      "Epoch 15/50\n",
      "13/13 [==============================] - 6s 446ms/step - loss: 3.2588 - accuracy: 0.4753 - val_loss: 4.1780 - val_accuracy: 0.4665\n",
      "Epoch 16/50\n",
      "13/13 [==============================] - 6s 455ms/step - loss: 3.2205 - accuracy: 0.5086 - val_loss: 4.2066 - val_accuracy: 0.4650\n",
      "Epoch 17/50\n",
      "13/13 [==============================] - 6s 455ms/step - loss: 3.2014 - accuracy: 0.5084 - val_loss: 4.2181 - val_accuracy: 0.4665\n",
      "Epoch 18/50\n",
      "13/13 [==============================] - 6s 444ms/step - loss: 3.1873 - accuracy: 0.5105 - val_loss: 4.2243 - val_accuracy: 0.4654\n",
      "Epoch 19/50\n",
      "13/13 [==============================] - 6s 457ms/step - loss: 3.1818 - accuracy: 0.5088 - val_loss: 4.2282 - val_accuracy: 0.4665\n",
      "Epoch 20/50\n",
      "13/13 [==============================] - 6s 453ms/step - loss: 3.1708 - accuracy: 0.5113 - val_loss: 4.2333 - val_accuracy: 0.4642\n",
      "Epoch 21/50\n",
      "13/13 [==============================] - 6s 449ms/step - loss: 3.1636 - accuracy: 0.5111 - val_loss: 4.2436 - val_accuracy: 0.4673\n",
      "Epoch 22/50\n",
      "13/13 [==============================] - 6s 452ms/step - loss: 3.1582 - accuracy: 0.5138 - val_loss: 4.2540 - val_accuracy: 0.4650\n",
      "Epoch 23/50\n",
      "13/13 [==============================] - 6s 450ms/step - loss: 3.1511 - accuracy: 0.5111 - val_loss: 4.2538 - val_accuracy: 0.4673\n",
      "Epoch 24/50\n",
      "13/13 [==============================] - 6s 449ms/step - loss: 3.1423 - accuracy: 0.5120 - val_loss: 4.2615 - val_accuracy: 0.4650\n",
      "Epoch 25/50\n",
      "13/13 [==============================] - 6s 455ms/step - loss: 3.1392 - accuracy: 0.5128 - val_loss: 4.2727 - val_accuracy: 0.4669\n",
      "Epoch 26/50\n",
      "13/13 [==============================] - 6s 446ms/step - loss: 3.1276 - accuracy: 0.5140 - val_loss: 4.2679 - val_accuracy: 0.4654\n",
      "Epoch 27/50\n",
      "13/13 [==============================] - 6s 452ms/step - loss: 3.1252 - accuracy: 0.5146 - val_loss: 4.2759 - val_accuracy: 0.4665\n",
      "Epoch 28/50\n",
      "13/13 [==============================] - 6s 453ms/step - loss: 3.1217 - accuracy: 0.5112 - val_loss: 4.2767 - val_accuracy: 0.4677\n",
      "Epoch 29/50\n",
      "13/13 [==============================] - 6s 453ms/step - loss: 3.1131 - accuracy: 0.5180 - val_loss: 4.2866 - val_accuracy: 0.4673\n",
      "Epoch 30/50\n",
      "13/13 [==============================] - 6s 449ms/step - loss: 3.1054 - accuracy: 0.5145 - val_loss: 4.2882 - val_accuracy: 0.4669\n",
      "Epoch 31/50\n",
      "13/13 [==============================] - 6s 450ms/step - loss: 3.0926 - accuracy: 0.5171 - val_loss: 4.2945 - val_accuracy: 0.4673\n",
      "Epoch 32/50\n",
      "13/13 [==============================] - 6s 448ms/step - loss: 3.0855 - accuracy: 0.5184 - val_loss: 4.2925 - val_accuracy: 0.4669\n",
      "Epoch 33/50\n",
      "13/13 [==============================] - 6s 457ms/step - loss: 3.0807 - accuracy: 0.5199 - val_loss: 4.2997 - val_accuracy: 0.4677\n",
      "Epoch 34/50\n",
      "13/13 [==============================] - 6s 462ms/step - loss: 3.0685 - accuracy: 0.5195 - val_loss: 4.3044 - val_accuracy: 0.4669\n",
      "Epoch 35/50\n",
      "13/13 [==============================] - 6s 458ms/step - loss: 3.0595 - accuracy: 0.5210 - val_loss: 4.3049 - val_accuracy: 0.4669\n",
      "Epoch 36/50\n",
      "13/13 [==============================] - 6s 457ms/step - loss: 3.0511 - accuracy: 0.5238 - val_loss: 4.3047 - val_accuracy: 0.4669\n",
      "Epoch 37/50\n",
      "13/13 [==============================] - 6s 457ms/step - loss: 3.0422 - accuracy: 0.5215 - val_loss: 4.3080 - val_accuracy: 0.4669\n",
      "Epoch 38/50\n",
      "13/13 [==============================] - 6s 457ms/step - loss: 3.0332 - accuracy: 0.5257 - val_loss: 4.3114 - val_accuracy: 0.4662\n",
      "Epoch 39/50\n",
      "13/13 [==============================] - 6s 460ms/step - loss: 3.0238 - accuracy: 0.5248 - val_loss: 4.3095 - val_accuracy: 0.4669\n",
      "Epoch 40/50\n",
      "13/13 [==============================] - 6s 458ms/step - loss: 3.0274 - accuracy: 0.5276 - val_loss: 4.2960 - val_accuracy: 0.4669\n",
      "Epoch 41/50\n",
      "13/13 [==============================] - 6s 461ms/step - loss: 3.0235 - accuracy: 0.5283 - val_loss: 4.3098 - val_accuracy: 0.4681\n",
      "Epoch 42/50\n",
      "13/13 [==============================] - 6s 459ms/step - loss: 3.0120 - accuracy: 0.5242 - val_loss: 4.3059 - val_accuracy: 0.4665\n",
      "Epoch 43/50\n",
      "13/13 [==============================] - 6s 457ms/step - loss: 2.9988 - accuracy: 0.5309 - val_loss: 4.3135 - val_accuracy: 0.4662\n",
      "Epoch 44/50\n",
      "13/13 [==============================] - 6s 459ms/step - loss: 2.9859 - accuracy: 0.5280 - val_loss: 4.3178 - val_accuracy: 0.4669\n",
      "Epoch 45/50\n",
      "13/13 [==============================] - 6s 459ms/step - loss: 2.9755 - accuracy: 0.5309 - val_loss: 4.3114 - val_accuracy: 0.4665\n",
      "Epoch 46/50\n",
      "13/13 [==============================] - 6s 459ms/step - loss: 2.9677 - accuracy: 0.5288 - val_loss: 4.3119 - val_accuracy: 0.4688\n",
      "Epoch 47/50\n",
      "13/13 [==============================] - 6s 461ms/step - loss: 2.9568 - accuracy: 0.5337 - val_loss: 4.3123 - val_accuracy: 0.4677\n",
      "Epoch 48/50\n",
      "13/13 [==============================] - 6s 458ms/step - loss: 2.9460 - accuracy: 0.5317 - val_loss: 4.3189 - val_accuracy: 0.4685\n",
      "Epoch 49/50\n",
      "13/13 [==============================] - 6s 456ms/step - loss: 2.9322 - accuracy: 0.5340 - val_loss: 4.3212 - val_accuracy: 0.4673\n",
      "Epoch 50/50\n",
      "13/13 [==============================] - 6s 468ms/step - loss: 2.9227 - accuracy: 0.5356 - val_loss: 4.3227 - val_accuracy: 0.4681\n"
     ]
    },
    {
     "data": {
      "text/plain": [
       "<keras.src.callbacks.History at 0x2607b4ae0d0>"
      ]
     },
     "execution_count": 59,
     "metadata": {},
     "output_type": "execute_result"
    }
   ],
   "source": [
    "# Prepare encoder_input_data\n",
    "encoder_input_data = np.zeros((len(text_sequences), max_text_len, len(tokenizer_texts.word_index) + 1), dtype='float32')\n",
    "for i, seq in enumerate(text_sequences):\n",
    "    for j, word_idx in enumerate(seq):\n",
    "        encoder_input_data[i, j, word_idx - 1] = 1.0  # Adjusting index by -1 because tokenizer index starts from 1\n",
    "\n",
    "# Prepare decoder_input_data and decoder_target_data\n",
    "decoder_input_data = np.zeros((len(summary_sequences), max_summary_len, len(tokenizer_summary.word_index) + 1), dtype='float32')\n",
    "decoder_target_data = np.zeros((len(summary_sequences), max_summary_len, len(tokenizer_summary.word_index) + 1), dtype='float32')\n",
    "for i, seq in enumerate(summary_sequences):\n",
    "    for j, word_idx in enumerate(seq):\n",
    "        decoder_input_data[i, j, word_idx - 1] = 1.0  # Adjusting index by -1 because tokenizer index starts from 1\n",
    "        if j > 0:\n",
    "            decoder_target_data[i, j - 1, word_idx - 1] = 1.0  # Adjusting index by -1 because tokenizer index starts from 1\n",
    "\n",
    "# Define RNN model\n",
    "latent_dim = 256\n",
    "\n",
    "# Define encoder model\n",
    "encoder_inputs = Input(shape=(max_text_len, len(tokenizer_texts.word_index) + 1))\n",
    "encoder_lstm = LSTM(latent_dim, return_state=True)\n",
    "encoder_outputs, state_h, state_c = encoder_lstm(encoder_inputs)\n",
    "encoder_states = [state_h, state_c]\n",
    "\n",
    "# Define decoder model\n",
    "decoder_inputs = Input(shape=(max_summary_len, len(tokenizer_summary.word_index) + 1))\n",
    "decoder_lstm = LSTM(latent_dim, return_sequences=True, return_state=True)\n",
    "decoder_outputs, _, _ = decoder_lstm(decoder_inputs, initial_state=encoder_states)\n",
    "decoder_dense = Dense(len(tokenizer_summary.word_index) + 1, activation='softmax')\n",
    "decoder_outputs = decoder_dense(decoder_outputs)\n",
    "\n",
    "# Define the model\n",
    "model = Model([encoder_inputs, decoder_inputs], decoder_outputs)\n",
    "\n",
    "# Compile the model\n",
    "model.compile(optimizer='adam', loss='categorical_crossentropy', metrics=['accuracy'])\n",
    "\n",
    "# Train the model\n",
    "model.fit([encoder_input_data, decoder_input_data], decoder_target_data,\n",
    "          batch_size=64,\n",
    "          epochs=50,\n",
    "          validation_split=0.2)\n"
   ]
  },
  {
   "cell_type": "code",
   "execution_count": null,
   "id": "d5c9cc1f",
   "metadata": {},
   "outputs": [],
   "source": []
  },
  {
   "cell_type": "code",
   "execution_count": null,
   "id": "56931c2c",
   "metadata": {},
   "outputs": [],
   "source": []
  },
  {
   "cell_type": "code",
   "execution_count": null,
   "id": "854777ad",
   "metadata": {},
   "outputs": [],
   "source": []
  }
 ],
 "metadata": {
  "kernelspec": {
   "display_name": "Python 3 (ipykernel)",
   "language": "python",
   "name": "python3"
  },
  "language_info": {
   "codemirror_mode": {
    "name": "ipython",
    "version": 3
   },
   "file_extension": ".py",
   "mimetype": "text/x-python",
   "name": "python",
   "nbconvert_exporter": "python",
   "pygments_lexer": "ipython3",
   "version": "3.11.4"
  }
 },
 "nbformat": 4,
 "nbformat_minor": 5
}
